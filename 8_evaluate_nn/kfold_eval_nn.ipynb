{
 "metadata": {
  "language_info": {
   "codemirror_mode": {
    "name": "ipython",
    "version": 3
   },
   "file_extension": ".py",
   "mimetype": "text/x-python",
   "name": "python",
   "nbconvert_exporter": "python",
   "pygments_lexer": "ipython3",
   "version": "3.7.12-final"
  },
  "orig_nbformat": 2,
  "kernelspec": {
   "name": "python_defaultSpec_1664486866414",
   "display_name": "Python 3.7.12 64-bit ('deeplearning': pipenv)"
  }
 },
 "nbformat": 4,
 "nbformat_minor": 2,
 "cells": [
  {
   "source": [
    "# Manual k-Fold Cross-Validation\n",
    "The gold standard for machine learning model evaluation is k-fold cross-validation. It provides\n",
    "a robust estimate of the performance of a model on unseen data. It does this by splitting\n",
    "the training dataset into k subsets, taking turns training models on all subsets except one,\n",
    "which is held out, and evaluating model performance on the held-out validation dataset. The\n",
    "process is repeated until all subsets are given an opportunity to be the held-out validation\n",
    "set. The performance measure is then averaged across all models that are created.\n",
    "\n",
    "It is important to understand that cross-validation means estimating a model design (e.g.,\n",
    "3-layer vs. 4-layer neural network) rather than a specific fitted model. You do not want to\n",
    "use a specific dataset to fit the models and compare the result since this may be due to that\n",
    "particular dataset fitting better on one model design (as known as overfitting). Instead, you\n",
    "want to use multiple datasets to fit, resulting in multiple fitted models of the same design,\n",
    "taking the average performance measure for comparison.\n",
    "\n",
    "Cross-validation is often not used for evaluating deep learning models because of the\n",
    "greater computational expense. For example, k-fold cross-validation is often used with 5 or\n",
    "10 folds. As such, 5 or 10 models must be constructed and evaluated, significantly adding to\n",
    "the evaluation time of a model. Nevertheless, when the problem is small enough or if you have\n",
    "sufficient computing resources, k-fold cross-validation can give you a less-biased estimate of\n",
    "the performance of your model.\n",
    "\n",
    "In the example below, you will use the handy `StratifiedKFold` class from the scikit-learn\n",
    "Python machine learning library to split the training dataset into 10 folds. The folds are\n",
    "stratified, meaning that the algorithm attempts to balance the number of instances of each\n",
    "class in each fold. The example creates and evaluates 10 models using the 10 splits of the\n",
    "data and collects all the scores. The verbose output for each epoch is turned off by passing\n",
    "`verbose=0` to the `fit()` and `evaluate()` functions on the model. The performance is printed for\n",
    "each model, and it is stored. The average and standard deviation of the model performance\n",
    "are then printed at the end of the run to provide a robust estimate of model accuracy."
   ],
   "cell_type": "markdown",
   "metadata": {}
  },
  {
   "cell_type": "code",
   "execution_count": 1,
   "metadata": {},
   "outputs": [],
   "source": [
    "# MLP for Pima Indians Dataset with 10-fold cross validation\n",
    "from tensorflow.keras.models import Sequential\n",
    "from tensorflow.keras.layers import Dense\n",
    "from sklearn.model_selection import StratifiedKFold\n",
    "import numpy as np"
   ]
  },
  {
   "cell_type": "code",
   "execution_count": 2,
   "metadata": {},
   "outputs": [],
   "source": [
    "# fix random seed for reproducibility\n",
    "seed = 7\n",
    "np.random.seed(seed)"
   ]
  },
  {
   "cell_type": "code",
   "execution_count": 4,
   "metadata": {},
   "outputs": [],
   "source": [
    "# load pima indians dataset\n",
    "dataset = np.loadtxt(\"../7_first_nn/pima-indians-diabetes.data.csv\", delimiter=\",\")\n",
    "\n",
    "# split into input (X) and output (Y) variables\n",
    "X = dataset[:,0:8]\n",
    "Y = dataset[:,8]"
   ]
  },
  {
   "cell_type": "code",
   "execution_count": 5,
   "metadata": {},
   "outputs": [],
   "source": [
    "# define 10-fold cross validation test harness\n",
    "kfold = StratifiedKFold(n_splits=10, shuffle=True, random_state=seed)\n",
    "cvscores = []"
   ]
  },
  {
   "cell_type": "code",
   "execution_count": 6,
   "metadata": {
    "tags": []
   },
   "outputs": [
    {
     "output_type": "stream",
     "name": "stderr",
     "text": "2022-09-29 21:48:52.345077: W tensorflow/stream_executor/platform/default/dso_loader.cc:64] Could not load dynamic library 'libcuda.so.1'; dlerror: libcuda.so.1: cannot open shared object file: No such file or directory\n2022-09-29 21:48:52.345166: W tensorflow/stream_executor/cuda/cuda_driver.cc:269] failed call to cuInit: UNKNOWN ERROR (303)\n2022-09-29 21:48:52.345227: I tensorflow/stream_executor/cuda/cuda_diagnostics.cc:156] kernel driver does not appear to be running on this host (theia-20220907-182918): /proc/driver/nvidia/version does not exist\n2022-09-29 21:48:52.345535: I tensorflow/core/platform/cpu_feature_guard.cc:193] This TensorFlow binary is optimized with oneAPI Deep Neural Network Library (oneDNN) to use the following CPU instructions in performance-critical operations:  AVX2 FMA\nTo enable them in other operations, rebuild TensorFlow with the appropriate compiler flags.\naccuracy: 74.03%\naccuracy: 77.92%\naccuracy: 76.62%\naccuracy: 66.23%\nWARNING:tensorflow:5 out of the last 13 calls to <function Model.make_test_function.<locals>.test_function at 0x7f36f4d4eb00> triggered tf.function retracing. Tracing is expensive and the excessive number of tracings could be due to (1) creating @tf.function repeatedly in a loop, (2) passing tensors with different shapes, (3) passing Python objects instead of tensors. For (1), please define your @tf.function outside of the loop. For (2), @tf.function has reduce_retracing=True option that can avoid unnecessary retracing. For (3), please refer to https://www.tensorflow.org/guide/function#controlling_retracing and https://www.tensorflow.org/api_docs/python/tf/function for  more details.\naccuracy: 64.94%\nWARNING:tensorflow:5 out of the last 13 calls to <function Model.make_test_function.<locals>.test_function at 0x7f36f4a293b0> triggered tf.function retracing. Tracing is expensive and the excessive number of tracings could be due to (1) creating @tf.function repeatedly in a loop, (2) passing tensors with different shapes, (3) passing Python objects instead of tensors. For (1), please define your @tf.function outside of the loop. For (2), @tf.function has reduce_retracing=True option that can avoid unnecessary retracing. For (3), please refer to https://www.tensorflow.org/guide/function#controlling_retracing and https://www.tensorflow.org/api_docs/python/tf/function for  more details.\naccuracy: 67.53%\naccuracy: 79.22%\naccuracy: 64.94%\naccuracy: 73.68%\naccuracy: 65.79%\n71.09% (+/- 5.47%)\n"
    }
   ],
   "source": [
    "for train, test in kfold.split(X, Y):\n",
    "    # create model\n",
    "    model = Sequential()\n",
    "    model.add(Dense(12, input_shape=(8,), activation='relu'))\n",
    "    model.add(Dense(8, activation='relu'))\n",
    "    model.add(Dense(1, activation='sigmoid'))\n",
    "\n",
    "    # Compile model\n",
    "    model.compile(loss='binary_crossentropy', optimizer='adam', metrics=['accuracy'])\n",
    "    \n",
    "    # Fit the model\n",
    "    model.fit(X[train], Y[train], epochs=150, batch_size=10, verbose=0)\n",
    "\n",
    "    # evaluate the model\n",
    "    scores = model.evaluate(X[test], Y[test], verbose=0)\n",
    "    print(\"%s: %.2f%%\" % (model.metrics_names[1], scores[1]*100))\n",
    "    cvscores.append(scores[1] * 100)\n",
    "\n",
    "print(\"%.2f%% (+/- %.2f%%)\" % (np.mean(cvscores), np.std(cvscores)))"
   ]
  },
  {
   "cell_type": "code",
   "execution_count": null,
   "metadata": {},
   "outputs": [],
   "source": []
  }
 ]
}