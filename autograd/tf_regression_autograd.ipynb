{
 "metadata": {
  "language_info": {
   "codemirror_mode": {
    "name": "ipython",
    "version": 3
   },
   "file_extension": ".py",
   "mimetype": "text/x-python",
   "name": "python",
   "nbconvert_exporter": "python",
   "pygments_lexer": "ipython3",
   "version": "3.7.12-final"
  },
  "orig_nbformat": 2,
  "kernelspec": {
   "name": "python_defaultSpec_1664254750651",
   "display_name": "Python 3.7.12 64-bit ('deeplearning': pipenv)"
  }
 },
 "nbformat": 4,
 "nbformat_minor": 2,
 "cells": [
  {
   "source": [
    "# Using Autograd in TensorFlow to Solve a Regression Problem\n",
    "\n",
    "We usually use TensorFlow to build a neural network. However, TensorFlow is not limited to this. Behind the scenes, TensorFlow is a tensor library with automatic differentiation capability. Hence you can easily use it to solve a numerical optimization problem with gradient descent, which is the algorithm to train a neural network.\n",
    "\n",
    "In TensorFlow 2.x, you can define variables and constants as TensorFlow objects and build an expression with them. The expression is essentially a function of the variables. Hence you may derive its derivative function, i.e., the differentiation or the gradient. This feature is one of the many fundamental features in TensorFlow. The deep learning model will make use of this in the training loop.\n",
    "\n",
    "It is easier to explain autograd with an example."
   ],
   "cell_type": "markdown",
   "metadata": {}
  },
  {
   "cell_type": "code",
   "execution_count": null,
   "metadata": {},
   "outputs": [],
   "source": [
    "import tensorflow as tf"
   ]
  },
  {
   "cell_type": "code",
   "execution_count": 3,
   "metadata": {
    "tags": []
   },
   "outputs": [
    {
     "output_type": "stream",
     "name": "stdout",
     "text": "tf.Tensor([1 2 3], shape=(3,), dtype=int32)\n(3,)\n<dtype: 'int32'>\n"
    }
   ],
   "source": [
    "# Create a constant matrix\n",
    "\n",
    "x = tf.constant([1, 2, 3])\n",
    "print(x)\n",
    "\n",
    "print(x.shape)\n",
    "print(x.dtype)"
   ]
  },
  {
   "source": [
    "This creates an integer vector (in the form of Tensor object). This vector can work like a NumPy vector in most cases. For example, you can do x+x or 2*x, and the result is just what you would expect. TensorFlow comes with many functions for array manipulation that match NumPy, such as tf.transpose or tf.concat.\n",
    "\n",
    "Creating variables in TensorFlow is just the same, for example:"
   ],
   "cell_type": "markdown",
   "metadata": {}
  },
  {
   "cell_type": "code",
   "execution_count": 2,
   "metadata": {
    "tags": []
   },
   "outputs": [
    {
     "output_type": "stream",
     "name": "stdout",
     "text": "<tf.Variable 'Variable:0' shape=(3,) dtype=int32, numpy=array([1, 2, 3], dtype=int32)>\n(3,)\n<dtype: 'int32'>\n"
    }
   ],
   "source": [
    "x = tf.Variable([1, 2, 3])\n",
    "print(x)\n",
    "print(x.shape)\n",
    "print(x.dtype)"
   ]
  },
  {
   "source": [
    "The operations (such as x+x and 2*x) that you can apply to Tensor objects can also be applied to variables. The difference between variables and constants is that the former allows the value to change while the latter is immutable. This distinction is important when you run a gradient tape as follows:"
   ],
   "cell_type": "markdown",
   "metadata": {}
  },
  {
   "cell_type": "code",
   "execution_count": 4,
   "metadata": {
    "tags": []
   },
   "outputs": [
    {
     "output_type": "stream",
     "name": "stdout",
     "text": "tf.Tensor(7.2, shape=(), dtype=float32)\n"
    }
   ],
   "source": [
    "x = tf.Variable(3.6)\n",
    "\n",
    "with tf.GradientTape() as tape:\n",
    "    y = x*x\n",
    "\n",
    "dy = tape.gradient(y, x)\n",
    "print(dy)"
   ]
  },
  {
   "source": [
    "What it does is the following: This defined a variable x (with value 3.6) and then created a gradient tape. While the gradient tape is working, it computes y=x*x or y = x2. The gradient tape monitored how the variables are manipulated. Afterward, you asked the gradient tape to find the derivative dy/dx . You know y = x^2 means dy/dx = 2x. Hence the output would give you a value of 3.6 × 2 = 7.2.\n",
    "\n",
    "## Using Autograd for Polynomial Regression\n",
    "\n",
    "How this feature in TensorFlow helpful?\n",
    "\n",
    "Let’s consider a case where you have a polynomial in the form of y = f(x), and you are given several (x, y) samples. How can you recover the polynomial f(x)? One way is to assume random coefficients for the polynomial and feed in the samples (x, y). If the polynomial is found, you should see the value of y matches f(x). The closer they are, the closer your estimate is to the correct polynomial. This is indeed a numerical optimization problem such that you want to minimize the difference between y and f(x). You can use gradient descent to solve it. Let’s consider an example. You can build a polynomial f(x) = x^2 + 2^x + 3 in NumPy as follows:\n",
    "\n"
   ],
   "cell_type": "markdown",
   "metadata": {}
  },
  {
   "cell_type": "code",
   "execution_count": 6,
   "metadata": {
    "tags": []
   },
   "outputs": [
    {
     "output_type": "stream",
     "name": "stdout",
     "text": "2\n1 x + 2 x + 3\n"
    }
   ],
   "source": [
    "import numpy as np \n",
    "\n",
    "polynomial = np.poly1d([1,2,3])\n",
    "print(polynomial)"
   ]
  },
  {
   "source": [
    "You may use the polynomial as a function, such as:"
   ],
   "cell_type": "markdown",
   "metadata": {}
  },
  {
   "cell_type": "code",
   "execution_count": 7,
   "metadata": {
    "tags": []
   },
   "outputs": [
    {
     "output_type": "stream",
     "name": "stdout",
     "text": "8.25\n"
    }
   ],
   "source": [
    "print(polynomial(1.5))"
   ]
  },
  {
   "source": [
    "And this prints 8.25, for (1.5)^2 + 2 × (1.5) + 3 = 8.25.  Now you can generate a number of samples from this function using NumPy:"
   ],
   "cell_type": "markdown",
   "metadata": {}
  },
  {
   "cell_type": "code",
   "execution_count": 9,
   "metadata": {},
   "outputs": [],
   "source": [
    "N = 20\n",
    "\n",
    "# Generate random samples between -10 to +10\n",
    "X = np.random.uniform(-10,10, size=(N,1))\n",
    "Y = polynomial(X)"
   ]
  },
  {
   "cell_type": "code",
   "execution_count": 18,
   "metadata": {
    "tags": []
   },
   "outputs": [
    {
     "output_type": "stream",
     "name": "stdout",
     "text": "[[-2.10820045  7.81068172  4.18338956  6.8560617   4.1062284   7.41163675\n   3.56875654  1.02081277  4.98730082 -2.66548641  7.91535862  5.13490471\n   4.64020175 -8.50678809  1.9533191   2.4874964  -5.12888073  9.51591432\n   0.81971168 -7.65530475]]\n[[  3.22810823  79.6281124   28.86752736  63.71770536  28.07356847\n   72.75563275  22.87353632   6.08368426  37.84777107   4.77384499\n   81.48361931  39.6370558   33.81187584  58.35186742  10.72209369\n   14.16263114  19.04765609 112.58445405   5.31135062  46.29308132]]\n"
    }
   ],
   "source": [
    "print(X.transpose())\n",
    "print(Y.transpose())"
   ]
  },
  {
   "source": [
    "In the above, both X and Y are NumPy arrays of the shape (20,1), and they are related as y = f(x) for the polynomial f(x).\n",
    "\n",
    "Now, assume you do not know what the polynomial is, except it is quadratic. And you want to recover the coefficients. Since a quadratic polynomial is in the form of Ax^2 +Bx+C, you have three unknowns to find. You can find them using the gradient descent algorithm you implement or an existing gradient descent optimizer. The following demonstrates how it works:"
   ],
   "cell_type": "markdown",
   "metadata": {}
  },
  {
   "cell_type": "code",
   "execution_count": 34,
   "metadata": {},
   "outputs": [],
   "source": [
    "# assume samples X and Y are prepared elsewhere\n",
    "\n",
    "XX = np.hstack([X*X, X, np.ones_like(X)])"
   ]
  },
  {
   "cell_type": "code",
   "execution_count": 35,
   "metadata": {},
   "outputs": [
    {
     "output_type": "execute_result",
     "data": {
      "text/plain": "array([[ 4.44450912, -2.10820045,  1.        ],\n       [61.00674896,  7.81068172,  1.        ],\n       [17.50074824,  4.18338956,  1.        ],\n       [47.00558197,  6.8560617 ,  1.        ],\n       [16.86111167,  4.1062284 ,  1.        ],\n       [54.93235926,  7.41163675,  1.        ],\n       [12.73602324,  3.56875654,  1.        ],\n       [ 1.04205872,  1.02081277,  1.        ],\n       [24.87316944,  4.98730082,  1.        ],\n       [ 7.10481782, -2.66548641,  1.        ],\n       [62.65290207,  7.91535862,  1.        ],\n       [26.36724638,  5.13490471,  1.        ],\n       [21.53147233,  4.64020175,  1.        ],\n       [72.3654436 , -8.50678809,  1.        ],\n       [ 3.8154555 ,  1.9533191 ,  1.        ],\n       [ 6.18763834,  2.4874964 ,  1.        ],\n       [26.30541755, -5.12888073,  1.        ],\n       [90.5526254 ,  9.51591432,  1.        ],\n       [ 0.67192725,  0.81971168,  1.        ],\n       [58.60369083, -7.65530475,  1.        ]])"
     },
     "metadata": {},
     "execution_count": 35
    }
   ],
   "source": [
    "XX"
   ]
  },
  {
   "cell_type": "code",
   "execution_count": 36,
   "metadata": {},
   "outputs": [],
   "source": [
    "w = tf.Variable(tf.random.normal((3,1)))    # the 3 coefficients\n",
    "x = tf.constant(XX, dtype=tf.float32)       # input sample\n",
    "y = tf.constant(Y, dtype=tf.float32)        # output sample"
   ]
  },
  {
   "cell_type": "code",
   "execution_count": 37,
   "metadata": {
    "tags": []
   },
   "outputs": [
    {
     "output_type": "stream",
     "name": "stdout",
     "text": "<tf.Variable 'Variable:0' shape=(3, 1) dtype=float32, numpy=\narray([[-0.10743889],\n       [ 1.1160605 ],\n       [-1.3658004 ]], dtype=float32)>\n<tf.Variable 'Variable:0' shape=(3, 1) dtype=float32, numpy=\narray([[1.0000061],\n       [2.0000079],\n       [2.9996545]], dtype=float32)>\n"
    }
   ],
   "source": [
    "optimizer = tf.keras.optimizers.Nadam(learning_rate=0.01)\n",
    "print(w)\n",
    "\n",
    "for _ in range(5000):\n",
    "    with tf.GradientTape() as tape:\n",
    "        y_pred = x @ w\n",
    "        mse = tf.reduce_sum(tf.square(y - y_pred))\n",
    "    grad = tape.gradient(mse, w)\n",
    "    optimizer.apply_gradients([(grad,w)])\n",
    "\n",
    "print(w)"
   ]
  },
  {
   "source": [
    "\n",
    "What the above code does is the following: First, it creates a variable vector w of 3 values, namely the coefficients A,B,C. Then you create an array of shape (N, 3), in which N is the number of samples in the array X. This array has 3 columns, which are the values of x^2, x, and 1, respectively. Such an array is built from the vector X using the np.hstack() function. Similarly, we build the TensorFlow constant y from the NumPy array Y. Afterwards, you use a for-loop to run gradient descent in 1,000 iterations. In each iteration, you compute x × w. in matrix form to find Ax^2 + Bx + C and assign it to the variable y_pred. Then, compare y. and y_pred and find the mean square error. Next, derive the gradient, i.e., the rate of change of the mean square error with respect to the coefficients w. And based on this gradient, you use gradient descent to update w.\n",
    "\n",
    "In essence, the above code is to find the coefficients w that minimizes the mean square error. Putting everything together, the following is the complete code:"
   ],
   "cell_type": "markdown",
   "metadata": {}
  },
  {
   "cell_type": "code",
   "execution_count": null,
   "metadata": {},
   "outputs": [],
   "source": [
    "N = 20 # number of samples\n",
    "\n",
    "# Generate random samples between -10 to +10\n",
    "polynomial = np.poly1d([1, 2, 3])\n",
    "X = np.random.uniform(-10, 10, size=(N,1))\n",
    "Y = polynomial(X)\n",
    "\n",
    "# Prepare input as an array of shape (N,3)\n",
    "XX = np.hstack([X*X, X, np.ones_like(X)])\n",
    "\n",
    "# Prepare TensorFlow objects\n",
    "w = tf.Variable(tf.random.normal((3,1))) # the 3 coefficients\n",
    "x = tf.constant(XX, dtype=tf.float32) # input sample\n",
    "y = tf.constant(Y, dtype=tf.float32) # output sample\n",
    "optimizer = tf.keras.optimizers.Nadam(learning_rate=0.01)\n",
    "print(w)\n",
    "\n",
    "# Run optimizer\n",
    "for _ in range(1000):\n",
    "    with tf.GradientTape() as tape:\n",
    "        y_pred = x @ w\n",
    "        mse = tf.reduce_sum(tf.square(y - y_pred))\n",
    "    grad = tape.gradient(mse, w)\n",
    "    optimizer.apply_gradients([(grad, w)])\n",
    "    \n",
    "print(w)"
   ]
  },
  {
   "source": [
    "# Use Autograd to Solve a math puzzle\n",
    "\n",
    "What if we had:\n",
    "- A + B = 8\n",
    "- C - D = 6\n",
    "- A + C = 13\n",
    "- B + D = 8\n",
    "\n",
    "\n"
   ],
   "cell_type": "markdown",
   "metadata": {}
  },
  {
   "cell_type": "code",
   "execution_count": 46,
   "metadata": {
    "tags": []
   },
   "outputs": [
    {
     "output_type": "stream",
     "name": "stdout",
     "text": "<tf.Variable 'Variable:0' shape=() dtype=float32, numpy=3.5000088>\n<tf.Variable 'Variable:0' shape=() dtype=float32, numpy=4.499996>\n<tf.Variable 'Variable:0' shape=() dtype=float32, numpy=9.499989>\n<tf.Variable 'Variable:0' shape=() dtype=float32, numpy=3.4999964>\n"
    }
   ],
   "source": [
    "import random\n",
    "\n",
    "A = tf.Variable(random.random())\n",
    "B = tf.Variable(random.random())\n",
    "C = tf.Variable(random.random())\n",
    "D = tf.Variable(random.random())\n",
    "\n",
    "# Gradient descent loop\n",
    "EPOCHS = 1000\n",
    "optimizer = tf.keras.optimizers.Nadam(learning_rate=0.1)\n",
    "\n",
    "for _ in range(EPOCHS):\n",
    "    with tf.GradientTape() as tape:\n",
    "        y1 = A + B - 8\n",
    "        y2 = C - D - 6\n",
    "        y3 = A + C - 13\n",
    "        y4 = B + D - 8\n",
    "        sqerr = y1*y1 + y2*y2 + y3*y3 + y4*y4\n",
    "    gradA, gradB, gradC, gradD = tape.gradient(sqerr, [A, B, C, D])\n",
    "    optimizer.apply_gradients([(gradA, A), (gradB, B), (gradC, C), (gradD, D)])\n",
    "\n",
    "print(A)\n",
    "print(B)\n",
    "print(C)\n",
    "print(D)"
   ]
  },
  {
   "cell_type": "code",
   "execution_count": 47,
   "metadata": {},
   "outputs": [],
   "source": [
    "A = 34.23\n",
    "B = 76.78\n",
    "C = 93.2\n",
    "D = 43.84\n",
    "\n",
    "e1 = A + B\n",
    "e2 = C - D\n",
    "e3 = A + C\n",
    "e4 = B + D"
   ]
  },
  {
   "cell_type": "code",
   "execution_count": 49,
   "metadata": {
    "tags": []
   },
   "outputs": [
    {
     "output_type": "stream",
     "name": "stdout",
     "text": "<tf.Variable 'Variable:0' shape=() dtype=float32, numpy=34.23036>\n<tf.Variable 'Variable:0' shape=() dtype=float32, numpy=76.779686>\n<tf.Variable 'Variable:0' shape=() dtype=float32, numpy=93.19973>\n<tf.Variable 'Variable:0' shape=() dtype=float32, numpy=43.840034>\n"
    }
   ],
   "source": [
    "A = tf.Variable(random.random())\n",
    "B = tf.Variable(random.random())\n",
    "C = tf.Variable(random.random())\n",
    "D = tf.Variable(random.random())\n",
    "\n",
    "# Gradient descent loop\n",
    "EPOCHS = 6000\n",
    "optimizer = tf.keras.optimizers.Nadam(learning_rate=0.1)\n",
    "\n",
    "for _ in range(EPOCHS):\n",
    "    with tf.GradientTape() as tape:\n",
    "        y1 = A + B - e1\n",
    "        y2 = C - D - e2\n",
    "        y3 = A + C - e3\n",
    "        y4 = B + D - e4\n",
    "        sqerr = y1*y1 + y2*y2 + y3*y3 + y4*y4\n",
    "    gradA, gradB, gradC, gradD = tape.gradient(sqerr, [A, B, C, D])\n",
    "    optimizer.apply_gradients([(gradA, A), (gradB, B), (gradC, C), (gradD, D)])\n",
    "\n",
    "print(A)\n",
    "print(B)\n",
    "print(C)\n",
    "print(D)"
   ]
  },
  {
   "source": [
    "The above code defines the four unknown as variables with random initial values. Then you compute the result of the four equations and compare it to the expected answer. You then sum up the squared error and ask TensorFlow to minimize it. The minimum possible square error is zero, attained when our solution exactly fits the problem.\n",
    "\n",
    "Note the way the gradient tape is asked to produce the gradient: You ask the gradient of sqerr respective to A, B, C, and D. Hence four gradients are found. You then apply each gradient to the respective variables in each iteration. Rather than looking for the gradient in four different calls to tape.gradient(), this is required in TensorFlow because the gradient of sqerr can only be recalled once by default"
   ],
   "cell_type": "markdown",
   "metadata": {}
  }
 ]
}