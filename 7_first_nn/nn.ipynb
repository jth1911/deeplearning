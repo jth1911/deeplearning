{
 "metadata": {
  "language_info": {
   "codemirror_mode": {
    "name": "ipython",
    "version": 3
   },
   "file_extension": ".py",
   "mimetype": "text/x-python",
   "name": "python",
   "nbconvert_exporter": "python",
   "pygments_lexer": "ipython3",
   "version": "3.7.12-final"
  },
  "orig_nbformat": 2,
  "kernelspec": {
   "name": "python_defaultSpec_1664460290593",
   "display_name": "Python 3.7.12 64-bit ('deeplearning': pipenv)"
  }
 },
 "nbformat": 4,
 "nbformat_minor": 2,
 "cells": [
  {
   "source": [
    "Summary of steps:\n",
    "- Load Data\n",
    "- Define Keras Model\n",
    "- Compile Keras Model\n",
    "- Fit Keras Model\n",
    "- Evaluate Keras Model\n",
    "- Tie It All Together\n",
    "- Make Predictions"
   ],
   "cell_type": "markdown",
   "metadata": {}
  },
  {
   "cell_type": "code",
   "execution_count": 2,
   "metadata": {},
   "outputs": [],
   "source": [
    "# Load library\n",
    "from numpy import loadtxt\n",
    "from tensorflow.keras.models import Sequential\n",
    "from tensorflow.keras.layers import Dense\n",
    "\n"
   ]
  },
  {
   "source": [
    "In this Keras tutorial, you will use the Pima Indians onset of diabetes dataset. This is a standard machine learning dataset from the UCI Machine Learning repository. It describes patient medical record data for Pima Indians and whether they had an onset of diabetes within five years.\n",
    "\n",
    "It is a binary classification problem (onset of diabetes as 1 or not as 0). All of the input variables that describe each patient are numerical. This makes it easy to use directly with neural networks that expect numerical input and output values and is an ideal choice for our\n",
    "first neural network in Keras.\n",
    "\n",
    "The dataset is available from the bundle of sample code provided with this book. You can also download it here:\n",
    "- Dataset CSV File (https://raw.githubusercontent.com/jbrownlee/Datasets/master/pima-indians-diabetes.data.csv)\n",
    "- Dataset Details (https://raw.githubusercontent.com/jbrownlee/Datasets/master/pima-indians-diabetes.names)\n",
    "\n",
    "Download the dataset and place it in your local working directory, the same location as your. Python file. Save it with the filename pima-indians-diabetes.csv.\n",
    "\n",
    "```\n",
    "wget https://raw.githubusercontent.com/jbrownlee/Datasets/master/pima-indians-diabetes.data.csv\n",
    "```"
   ],
   "cell_type": "markdown",
   "metadata": {}
  },
  {
   "cell_type": "code",
   "execution_count": 3,
   "metadata": {},
   "outputs": [],
   "source": [
    "# load the dataset\n",
    "dataset = loadtxt('pima-indians-diabetes.data.csv', delimiter=',')\n",
    "\n",
    "# split into input (X) and output (y) variables\n",
    "X = dataset[:, 0:8]\n",
    "y = dataset[:, 8]"
   ]
  },
  {
   "cell_type": "code",
   "execution_count": 4,
   "metadata": {
    "tags": []
   },
   "outputs": [
    {
     "output_type": "stream",
     "name": "stderr",
     "text": "2022-09-29 14:05:36.954428: W tensorflow/stream_executor/platform/default/dso_loader.cc:64] Could not load dynamic library 'libcuda.so.1'; dlerror: libcuda.so.1: cannot open shared object file: No such file or directory\n2022-09-29 14:05:36.954559: W tensorflow/stream_executor/cuda/cuda_driver.cc:269] failed call to cuInit: UNKNOWN ERROR (303)\n2022-09-29 14:05:36.954614: I tensorflow/stream_executor/cuda/cuda_diagnostics.cc:156] kernel driver does not appear to be running on this host (theia-20220907-182918): /proc/driver/nvidia/version does not exist\n2022-09-29 14:05:36.955502: I tensorflow/core/platform/cpu_feature_guard.cc:193] This TensorFlow binary is optimized with oneAPI Deep Neural Network Library (oneDNN) to use the following CPU instructions in performance-critical operations:  AVX2 FMA\nTo enable them in other operations, rebuild TensorFlow with the appropriate compiler flags.\n"
    }
   ],
   "source": [
    "# define Keras model\n",
    "model = Sequential()\n",
    "model.add(Dense(12, input_shape=(8,), activation='relu'))\n",
    "model.add(Dense(8, activation='relu'))\n",
    "model.add(Dense(1, activation='sigmoid'))"
   ]
  },
  {
   "cell_type": "code",
   "execution_count": 5,
   "metadata": {},
   "outputs": [],
   "source": [
    "# compile the model\n",
    "model.compile(loss='binary_crossentropy', optimizer='adam', metrics=['accuracy'])"
   ]
  },
  {
   "source": [
    "Training occurs over epochs, and each epoch is split into batches.\n",
    "- Epoch: One pass through all of the rows in the training dataset\n",
    "- Batch: One or more samples considered by the model within an epoch before weights\n",
    "are updated\n",
    "\n",
    "One epoch comprises of one or more batches, based on the chosen batch size, and the model is fit for many epochs. The training process will run for a fixed number of epochs (iterations) through the entire dataset that you must specify using the epochs argument. You must also set the number of dataset rows that are considered before the model weights are updated within each epoch, called the batch size, and set using the batch_size argument. This problem will run for a small number of epochs (150) and use a relatively small batch size of 10. These configurations can be chosen experimentally by trial and error. You want to train the model enough so that it learns a good (or good enough) mapping of rows of input data to the output classification. The model will always have some error, but the amount of error will level out after some point for a given model configuration. This is called model convergence.\n",
    "\n"
   ],
   "cell_type": "markdown",
   "metadata": {}
  },
  {
   "cell_type": "code",
   "execution_count": 6,
   "metadata": {
    "tags": []
   },
   "outputs": [
    {
     "output_type": "stream",
     "name": "stdout",
     "text": "Epoch 1/150\n77/77 [==============================] - 1s 2ms/step - loss: 25.0118 - accuracy: 0.3646\nEpoch 2/150\n77/77 [==============================] - 0s 2ms/step - loss: 4.4929 - accuracy: 0.5312\nEpoch 3/150\n77/77 [==============================] - 0s 2ms/step - loss: 1.7918 - accuracy: 0.6328\nEpoch 4/150\n77/77 [==============================] - 0s 2ms/step - loss: 1.2881 - accuracy: 0.6589\nEpoch 5/150\n77/77 [==============================] - 0s 2ms/step - loss: 0.9864 - accuracy: 0.6562\nEpoch 6/150\n77/77 [==============================] - 0s 2ms/step - loss: 0.8854 - accuracy: 0.6523\nEpoch 7/150\n77/77 [==============================] - 0s 2ms/step - loss: 0.8770 - accuracy: 0.6328\nEpoch 8/150\n77/77 [==============================] - 0s 2ms/step - loss: 0.8230 - accuracy: 0.6445\nEpoch 9/150\n77/77 [==============================] - 0s 2ms/step - loss: 0.8262 - accuracy: 0.6419\nEpoch 10/150\n77/77 [==============================] - 0s 2ms/step - loss: 0.7680 - accuracy: 0.6602\nEpoch 11/150\n77/77 [==============================] - 0s 2ms/step - loss: 0.7487 - accuracy: 0.6602\nEpoch 12/150\n77/77 [==============================] - 0s 2ms/step - loss: 0.7211 - accuracy: 0.6706\nEpoch 13/150\n77/77 [==============================] - 0s 2ms/step - loss: 0.7042 - accuracy: 0.6602\nEpoch 14/150\n77/77 [==============================] - 0s 2ms/step - loss: 0.7109 - accuracy: 0.6576\nEpoch 15/150\n77/77 [==============================] - 0s 2ms/step - loss: 0.6831 - accuracy: 0.6680\nEpoch 16/150\n77/77 [==============================] - 0s 2ms/step - loss: 0.6705 - accuracy: 0.6641\nEpoch 17/150\n77/77 [==============================] - 0s 2ms/step - loss: 0.6542 - accuracy: 0.6719\nEpoch 18/150\n77/77 [==============================] - 0s 2ms/step - loss: 0.7168 - accuracy: 0.6328\nEpoch 19/150\n77/77 [==============================] - 0s 2ms/step - loss: 0.6374 - accuracy: 0.6706\nEpoch 20/150\n77/77 [==============================] - 0s 2ms/step - loss: 0.6574 - accuracy: 0.6562\nEpoch 21/150\n77/77 [==============================] - 0s 2ms/step - loss: 0.6300 - accuracy: 0.6628\nEpoch 22/150\n77/77 [==============================] - 0s 2ms/step - loss: 0.6285 - accuracy: 0.6693\nEpoch 23/150\n77/77 [==============================] - 0s 2ms/step - loss: 0.6093 - accuracy: 0.7148\nEpoch 24/150\n77/77 [==============================] - 0s 2ms/step - loss: 0.6021 - accuracy: 0.6927\nEpoch 25/150\n77/77 [==============================] - 0s 2ms/step - loss: 0.6022 - accuracy: 0.6927\nEpoch 26/150\n77/77 [==============================] - 0s 2ms/step - loss: 0.6059 - accuracy: 0.6940\nEpoch 27/150\n77/77 [==============================] - 0s 2ms/step - loss: 0.5934 - accuracy: 0.7057\nEpoch 28/150\n77/77 [==============================] - 0s 2ms/step - loss: 0.6007 - accuracy: 0.6914\nEpoch 29/150\n77/77 [==============================] - 0s 2ms/step - loss: 0.5947 - accuracy: 0.7005\nEpoch 30/150\n77/77 [==============================] - 0s 2ms/step - loss: 0.6066 - accuracy: 0.7044\nEpoch 31/150\n77/77 [==============================] - 0s 1ms/step - loss: 0.6108 - accuracy: 0.6914\nEpoch 32/150\n77/77 [==============================] - 0s 2ms/step - loss: 0.5993 - accuracy: 0.7135\nEpoch 33/150\n77/77 [==============================] - 0s 2ms/step - loss: 0.5856 - accuracy: 0.7070\nEpoch 34/150\n77/77 [==============================] - 0s 2ms/step - loss: 0.5868 - accuracy: 0.7018\nEpoch 35/150\n77/77 [==============================] - 0s 2ms/step - loss: 0.5784 - accuracy: 0.6992\nEpoch 36/150\n77/77 [==============================] - 0s 2ms/step - loss: 0.5739 - accuracy: 0.7044\nEpoch 37/150\n77/77 [==============================] - 0s 2ms/step - loss: 0.5916 - accuracy: 0.7083\nEpoch 38/150\n77/77 [==============================] - 0s 2ms/step - loss: 0.6078 - accuracy: 0.7057\nEpoch 39/150\n77/77 [==============================] - 0s 2ms/step - loss: 0.5724 - accuracy: 0.7266\nEpoch 40/150\n77/77 [==============================] - 0s 2ms/step - loss: 0.5780 - accuracy: 0.7266\nEpoch 41/150\n77/77 [==============================] - 0s 2ms/step - loss: 0.5747 - accuracy: 0.7083\nEpoch 42/150\n77/77 [==============================] - 0s 2ms/step - loss: 0.5708 - accuracy: 0.7266\nEpoch 43/150\n77/77 [==============================] - 0s 2ms/step - loss: 0.5583 - accuracy: 0.7253\nEpoch 44/150\n77/77 [==============================] - 0s 2ms/step - loss: 0.5920 - accuracy: 0.7148\nEpoch 45/150\n77/77 [==============================] - 0s 2ms/step - loss: 0.5895 - accuracy: 0.7057\nEpoch 46/150\n77/77 [==============================] - 0s 2ms/step - loss: 0.5754 - accuracy: 0.7044\nEpoch 47/150\n77/77 [==============================] - 0s 2ms/step - loss: 0.5960 - accuracy: 0.7083\nEpoch 48/150\n77/77 [==============================] - 0s 1ms/step - loss: 0.6467 - accuracy: 0.6875\nEpoch 49/150\n77/77 [==============================] - 0s 1ms/step - loss: 0.5665 - accuracy: 0.7214\nEpoch 50/150\n77/77 [==============================] - 0s 2ms/step - loss: 0.5794 - accuracy: 0.7122\nEpoch 51/150\n77/77 [==============================] - 0s 2ms/step - loss: 0.5801 - accuracy: 0.7057\nEpoch 52/150\n77/77 [==============================] - 0s 2ms/step - loss: 0.5561 - accuracy: 0.7135\nEpoch 53/150\n77/77 [==============================] - 0s 2ms/step - loss: 0.5507 - accuracy: 0.7240\nEpoch 54/150\n77/77 [==============================] - 0s 2ms/step - loss: 0.5571 - accuracy: 0.7214\nEpoch 55/150\n77/77 [==============================] - 0s 2ms/step - loss: 0.5735 - accuracy: 0.7266\nEpoch 56/150\n77/77 [==============================] - 0s 2ms/step - loss: 0.5714 - accuracy: 0.7201\nEpoch 57/150\n77/77 [==============================] - 0s 2ms/step - loss: 0.5451 - accuracy: 0.7409\nEpoch 58/150\n77/77 [==============================] - 0s 2ms/step - loss: 0.5519 - accuracy: 0.7227\nEpoch 59/150\n77/77 [==============================] - 0s 2ms/step - loss: 0.5455 - accuracy: 0.7214\nEpoch 60/150\n77/77 [==============================] - 0s 2ms/step - loss: 0.5465 - accuracy: 0.7344\nEpoch 61/150\n77/77 [==============================] - 0s 1ms/step - loss: 0.5581 - accuracy: 0.7201\nEpoch 62/150\n77/77 [==============================] - 0s 2ms/step - loss: 0.5434 - accuracy: 0.7214\nEpoch 63/150\n77/77 [==============================] - 0s 2ms/step - loss: 0.5249 - accuracy: 0.7422\nEpoch 64/150\n77/77 [==============================] - 0s 2ms/step - loss: 0.6029 - accuracy: 0.7083\nEpoch 65/150\n77/77 [==============================] - 0s 2ms/step - loss: 0.5467 - accuracy: 0.7331\nEpoch 66/150\n77/77 [==============================] - 0s 2ms/step - loss: 0.5427 - accuracy: 0.7240\nEpoch 67/150\n77/77 [==============================] - 0s 2ms/step - loss: 0.5306 - accuracy: 0.7383\nEpoch 68/150\n77/77 [==============================] - 0s 2ms/step - loss: 0.5300 - accuracy: 0.7539\nEpoch 69/150\n77/77 [==============================] - 0s 2ms/step - loss: 0.5396 - accuracy: 0.7331\nEpoch 70/150\n77/77 [==============================] - 0s 2ms/step - loss: 0.5620 - accuracy: 0.7161\nEpoch 71/150\n77/77 [==============================] - 0s 2ms/step - loss: 0.5514 - accuracy: 0.7148\nEpoch 72/150\n77/77 [==============================] - 0s 2ms/step - loss: 0.5494 - accuracy: 0.7344\nEpoch 73/150\n77/77 [==============================] - 0s 2ms/step - loss: 0.5392 - accuracy: 0.7487\nEpoch 74/150\n77/77 [==============================] - 0s 1ms/step - loss: 0.5268 - accuracy: 0.7422\nEpoch 75/150\n77/77 [==============================] - 0s 2ms/step - loss: 0.5296 - accuracy: 0.7500\nEpoch 76/150\n77/77 [==============================] - 0s 2ms/step - loss: 0.5231 - accuracy: 0.7409\nEpoch 77/150\n77/77 [==============================] - 0s 2ms/step - loss: 0.5197 - accuracy: 0.7565\nEpoch 78/150\n77/77 [==============================] - 0s 2ms/step - loss: 0.5295 - accuracy: 0.7292\nEpoch 79/150\n77/77 [==============================] - 0s 2ms/step - loss: 0.5397 - accuracy: 0.7266\nEpoch 80/150\n77/77 [==============================] - 0s 2ms/step - loss: 0.5265 - accuracy: 0.7474\nEpoch 81/150\n77/77 [==============================] - 0s 2ms/step - loss: 0.5499 - accuracy: 0.7383\nEpoch 82/150\n77/77 [==============================] - 0s 2ms/step - loss: 0.5143 - accuracy: 0.7513\nEpoch 83/150\n77/77 [==============================] - 0s 2ms/step - loss: 0.5186 - accuracy: 0.7500\nEpoch 84/150\n77/77 [==============================] - 0s 1ms/step - loss: 0.5491 - accuracy: 0.7318\nEpoch 85/150\n77/77 [==============================] - 0s 2ms/step - loss: 0.5309 - accuracy: 0.7396\nEpoch 86/150\n77/77 [==============================] - 0s 2ms/step - loss: 0.5904 - accuracy: 0.7044\nEpoch 87/150\n77/77 [==============================] - 0s 2ms/step - loss: 0.5593 - accuracy: 0.7240\nEpoch 88/150\n77/77 [==============================] - 0s 2ms/step - loss: 0.5389 - accuracy: 0.7422\nEpoch 89/150\n77/77 [==============================] - 0s 2ms/step - loss: 0.5184 - accuracy: 0.7422\nEpoch 90/150\n77/77 [==============================] - 0s 2ms/step - loss: 0.5123 - accuracy: 0.7435\nEpoch 91/150\n77/77 [==============================] - 0s 2ms/step - loss: 0.5191 - accuracy: 0.7396\nEpoch 92/150\n77/77 [==============================] - 0s 2ms/step - loss: 0.5060 - accuracy: 0.7487\nEpoch 93/150\n77/77 [==============================] - 0s 2ms/step - loss: 0.5322 - accuracy: 0.7526\nEpoch 94/150\n77/77 [==============================] - 0s 2ms/step - loss: 0.5119 - accuracy: 0.7331\nEpoch 95/150\n77/77 [==============================] - 0s 2ms/step - loss: 0.5295 - accuracy: 0.7122\nEpoch 96/150\n77/77 [==============================] - 0s 2ms/step - loss: 0.5206 - accuracy: 0.7409\nEpoch 97/150\n77/77 [==============================] - 0s 2ms/step - loss: 0.5121 - accuracy: 0.7344\nEpoch 98/150\n77/77 [==============================] - 0s 2ms/step - loss: 0.5239 - accuracy: 0.7435\nEpoch 99/150\n77/77 [==============================] - 0s 2ms/step - loss: 0.5110 - accuracy: 0.7435\nEpoch 100/150\n77/77 [==============================] - 0s 2ms/step - loss: 0.5038 - accuracy: 0.7448\nEpoch 101/150\n77/77 [==============================] - 0s 2ms/step - loss: 0.5182 - accuracy: 0.7500\nEpoch 102/150\n77/77 [==============================] - 0s 2ms/step - loss: 0.5121 - accuracy: 0.7357\nEpoch 103/150\n77/77 [==============================] - 0s 2ms/step - loss: 0.6148 - accuracy: 0.7018\nEpoch 104/150\n77/77 [==============================] - 0s 2ms/step - loss: 0.5168 - accuracy: 0.7448\nEpoch 105/150\n77/77 [==============================] - 0s 2ms/step - loss: 0.5139 - accuracy: 0.7513\nEpoch 106/150\n77/77 [==============================] - 0s 2ms/step - loss: 0.5078 - accuracy: 0.7565\nEpoch 107/150\n77/77 [==============================] - 0s 2ms/step - loss: 0.5074 - accuracy: 0.7565\nEpoch 108/150\n77/77 [==============================] - 0s 2ms/step - loss: 0.5257 - accuracy: 0.7370\nEpoch 109/150\n77/77 [==============================] - 0s 2ms/step - loss: 0.5653 - accuracy: 0.7174\nEpoch 110/150\n77/77 [==============================] - 0s 2ms/step - loss: 0.5181 - accuracy: 0.7422\nEpoch 111/150\n77/77 [==============================] - 0s 2ms/step - loss: 0.5031 - accuracy: 0.7565\nEpoch 112/150\n77/77 [==============================] - 0s 2ms/step - loss: 0.5038 - accuracy: 0.7552\nEpoch 113/150\n77/77 [==============================] - 0s 2ms/step - loss: 0.4995 - accuracy: 0.7643\nEpoch 114/150\n77/77 [==============================] - 0s 2ms/step - loss: 0.5106 - accuracy: 0.7591\nEpoch 115/150\n77/77 [==============================] - 0s 2ms/step - loss: 0.5054 - accuracy: 0.7513\nEpoch 116/150\n77/77 [==============================] - 0s 2ms/step - loss: 0.5304 - accuracy: 0.7396\nEpoch 117/150\n77/77 [==============================] - 0s 2ms/step - loss: 0.5236 - accuracy: 0.7552\nEpoch 118/150\n77/77 [==============================] - 0s 2ms/step - loss: 0.5259 - accuracy: 0.7474\nEpoch 119/150\n77/77 [==============================] - 0s 2ms/step - loss: 0.5074 - accuracy: 0.7409\nEpoch 120/150\n77/77 [==============================] - 0s 2ms/step - loss: 0.5020 - accuracy: 0.7409\nEpoch 121/150\n77/77 [==============================] - 0s 2ms/step - loss: 0.5174 - accuracy: 0.7409\nEpoch 122/150\n77/77 [==============================] - 0s 2ms/step - loss: 0.5182 - accuracy: 0.7422\nEpoch 123/150\n77/77 [==============================] - 0s 2ms/step - loss: 0.5190 - accuracy: 0.7500\nEpoch 124/150\n77/77 [==============================] - 0s 2ms/step - loss: 0.5124 - accuracy: 0.7461\nEpoch 125/150\n77/77 [==============================] - 0s 2ms/step - loss: 0.4946 - accuracy: 0.7539\nEpoch 126/150\n77/77 [==============================] - 0s 2ms/step - loss: 0.5188 - accuracy: 0.7552\nEpoch 127/150\n77/77 [==============================] - 0s 2ms/step - loss: 0.5294 - accuracy: 0.7487\nEpoch 128/150\n77/77 [==============================] - 0s 2ms/step - loss: 0.5246 - accuracy: 0.7396\nEpoch 129/150\n77/77 [==============================] - 0s 2ms/step - loss: 0.5100 - accuracy: 0.7539\nEpoch 130/150\n77/77 [==============================] - 0s 2ms/step - loss: 0.5620 - accuracy: 0.7188\nEpoch 131/150\n77/77 [==============================] - 0s 2ms/step - loss: 0.5075 - accuracy: 0.7513\nEpoch 132/150\n77/77 [==============================] - 0s 2ms/step - loss: 0.4853 - accuracy: 0.7591\nEpoch 133/150\n77/77 [==============================] - 0s 2ms/step - loss: 0.5391 - accuracy: 0.7279\nEpoch 134/150\n77/77 [==============================] - 0s 2ms/step - loss: 0.5056 - accuracy: 0.7409\nEpoch 135/150\n77/77 [==============================] - 0s 2ms/step - loss: 0.4836 - accuracy: 0.7682\nEpoch 136/150\n77/77 [==============================] - 0s 2ms/step - loss: 0.5076 - accuracy: 0.7669\nEpoch 137/150\n77/77 [==============================] - 0s 2ms/step - loss: 0.4843 - accuracy: 0.7656\nEpoch 138/150\n77/77 [==============================] - 0s 2ms/step - loss: 0.4910 - accuracy: 0.7617\nEpoch 139/150\n77/77 [==============================] - 0s 2ms/step - loss: 0.5122 - accuracy: 0.7526\nEpoch 140/150\n77/77 [==============================] - 0s 2ms/step - loss: 0.4862 - accuracy: 0.7721\nEpoch 141/150\n77/77 [==============================] - 0s 2ms/step - loss: 0.4942 - accuracy: 0.7552\nEpoch 142/150\n77/77 [==============================] - 0s 2ms/step - loss: 0.5011 - accuracy: 0.7682\nEpoch 143/150\n77/77 [==============================] - 0s 2ms/step - loss: 0.4914 - accuracy: 0.7617\nEpoch 144/150\n77/77 [==============================] - 0s 2ms/step - loss: 0.5225 - accuracy: 0.7461\nEpoch 145/150\n77/77 [==============================] - 0s 2ms/step - loss: 0.4843 - accuracy: 0.7656\nEpoch 146/150\n77/77 [==============================] - 0s 2ms/step - loss: 0.4977 - accuracy: 0.7474\nEpoch 147/150\n77/77 [==============================] - 0s 2ms/step - loss: 0.4988 - accuracy: 0.7578\nEpoch 148/150\n77/77 [==============================] - 0s 2ms/step - loss: 0.4839 - accuracy: 0.7695\nEpoch 149/150\n77/77 [==============================] - 0s 3ms/step - loss: 0.4915 - accuracy: 0.7552\nEpoch 150/150\n77/77 [==============================] - 0s 2ms/step - loss: 0.4890 - accuracy: 0.7630\n"
    },
    {
     "output_type": "execute_result",
     "data": {
      "text/plain": "<keras.callbacks.History at 0x7f226a6aef50>"
     },
     "metadata": {},
     "execution_count": 6
    }
   ],
   "source": [
    "# fit the model\n",
    "model.fit(X, y, epochs=150, batch_size=10)"
   ]
  },
  {
   "source": [
    "You have trained our neural network on the entire dataset, and you can evaluate the performance of the network on the same dataset. This will only give you an idea of how well you have modeled the dataset (e.g., train accuracy), but no idea of how well the algorithm might perform on new data. This was done for simplicity, but ideally, you could separate your data into train and test datasets for training and evaluation of your model.\n",
    "\n",
    "You can evaluate your model on your training dataset using the evaluate() function and pass it the same input and output used to train the model. This will generate a prediction for each input and output pair and collect scores, including the average loss and any metrics you have configured, such as accuracy. The evaluate() function will return a list with two values. The first will be the loss of the model on the dataset, and the second will be the accuracy of the model on the dataset. You are only interested in reporting the accuracy so ignore the loss value."
   ],
   "cell_type": "markdown",
   "metadata": {}
  },
  {
   "cell_type": "code",
   "execution_count": 9,
   "metadata": {
    "tags": []
   },
   "outputs": [
    {
     "output_type": "stream",
     "name": "stdout",
     "text": "24/24 [==============================] - 0s 2ms/step - loss: 0.5012 - accuracy: 0.7578\nAccuracy: 75.78\n"
    }
   ],
   "source": [
    "# evaluate the model\n",
    "_, accuracy = model.evaluate(X, y)\n",
    "print(\"Accuracy: %.2f\" % (accuracy*100))"
   ]
  },
  {
   "source": [
    "You can adapt the above example and use it to generate predictions on the training dataset, pretending it is a new dataset you have not seen before. Making predictions is as easy as calling the predict() function on the model. You are using a sigmoid activation function on the output layer, so the predictions will be a probability in the range between 0 and 1. You can easily convert them into a crisp binary prediction for this classification task by rounding them."
   ],
   "cell_type": "markdown",
   "metadata": {}
  },
  {
   "cell_type": "code",
   "execution_count": 12,
   "metadata": {
    "tags": []
   },
   "outputs": [
    {
     "output_type": "stream",
     "name": "stdout",
     "text": "24/24 [==============================] - 0s 1ms/step\n"
    }
   ],
   "source": [
    "# make probability predictions with the model\n",
    "predictions = model.predict(X)\n",
    "\n",
    "# round predictions\n",
    "rounded = [round(x[0]) for x in predictions]"
   ]
  },
  {
   "cell_type": "code",
   "execution_count": 15,
   "metadata": {
    "tags": []
   },
   "outputs": [
    {
     "output_type": "stream",
     "name": "stdout",
     "text": "24/24 [==============================] - 0s 1ms/step\n"
    },
    {
     "output_type": "execute_result",
     "data": {
      "text/plain": "array([[1],\n       [0],\n       [1],\n       [0],\n       [1],\n       [0],\n       [0],\n       [1],\n       [0],\n       [0],\n       [0],\n       [1],\n       [0],\n       [0],\n       [1],\n       [0],\n       [0],\n       [0],\n       [0],\n       [0],\n       [0],\n       [0],\n       [1],\n       [0],\n       [1],\n       [0],\n       [1],\n       [0],\n       [0],\n       [0],\n       [0],\n       [0],\n       [0],\n       [0],\n       [0],\n       [0],\n       [1],\n       [0],\n       [0],\n       [0],\n       [0],\n       [1],\n       [0],\n       [1],\n       [1],\n       [1],\n       [1],\n       [0],\n       [0],\n       [0],\n       [0],\n       [0],\n       [0],\n       [1],\n       [0],\n       [0],\n       [1],\n       [0],\n       [1],\n       [0],\n       [0],\n       [1],\n       [0],\n       [0],\n       [0],\n       [0],\n       [0],\n       [0],\n       [0],\n       [0],\n       [0],\n       [0],\n       [1],\n       [0],\n       [0],\n       [0],\n       [0],\n       [0],\n       [1],\n       [0],\n       [0],\n       [0],\n       [0],\n       [0],\n       [0],\n       [0],\n       [1],\n       [0],\n       [1],\n       [0],\n       [0],\n       [0],\n       [0],\n       [0],\n       [0],\n       [0],\n       [0],\n       [0],\n       [0],\n       [0],\n       [1],\n       [0],\n       [0],\n       [0],\n       [0],\n       [0],\n       [0],\n       [0],\n       [0],\n       [0],\n       [0],\n       [0],\n       [0],\n       [0],\n       [1],\n       [0],\n       [0],\n       [0],\n       [0],\n       [0],\n       [0],\n       [0],\n       [0],\n       [0],\n       [0],\n       [1],\n       [0],\n       [0],\n       [0],\n       [0],\n       [0],\n       [1],\n       [0],\n       [0],\n       [0],\n       [0],\n       [0],\n       [0],\n       [0],\n       [0],\n       [0],\n       [0],\n       [0],\n       [0],\n       [0],\n       [0],\n       [0],\n       [0],\n       [0],\n       [0],\n       [0],\n       [0],\n       [1],\n       [0],\n       [1],\n       [1],\n       [0],\n       [0],\n       [0],\n       [1],\n       [0],\n       [0],\n       [0],\n       [0],\n       [0],\n       [0],\n       [1],\n       [0],\n       [0],\n       [0],\n       [0],\n       [0],\n       [1],\n       [0],\n       [0],\n       [1],\n       [0],\n       [0],\n       [1],\n       [1],\n       [0],\n       [0],\n       [0],\n       [0],\n       [0],\n       [1],\n       [0],\n       [0],\n       [0],\n       [0],\n       [0],\n       [0],\n       [1],\n       [1],\n       [0],\n       [0],\n       [0],\n       [0],\n       [0],\n       [0],\n       [0],\n       [0],\n       [0],\n       [0],\n       [0],\n       [0],\n       [1],\n       [1],\n       [0],\n       [1],\n       [0],\n       [0],\n       [1],\n       [0],\n       [0],\n       [1],\n       [0],\n       [0],\n       [0],\n       [0],\n       [0],\n       [0],\n       [0],\n       [1],\n       [0],\n       [0],\n       [0],\n       [1],\n       [0],\n       [0],\n       [0],\n       [0],\n       [0],\n       [0],\n       [0],\n       [1],\n       [1],\n       [1],\n       [1],\n       [0],\n       [0],\n       [0],\n       [1],\n       [0],\n       [0],\n       [1],\n       [1],\n       [0],\n       [0],\n       [0],\n       [0],\n       [0],\n       [0],\n       [0],\n       [0],\n       [0],\n       [0],\n       [0],\n       [0],\n       [1],\n       [0],\n       [1],\n       [0],\n       [0],\n       [1],\n       [0],\n       [1],\n       [1],\n       [0],\n       [1],\n       [0],\n       [0],\n       [0],\n       [0],\n       [0],\n       [0],\n       [0],\n       [0],\n       [0],\n       [0],\n       [1],\n       [0],\n       [0],\n       [1],\n       [0],\n       [0],\n       [0],\n       [0],\n       [0],\n       [0],\n       [0],\n       [0],\n       [0],\n       [1],\n       [0],\n       [1],\n       [0],\n       [0],\n       [0],\n       [0],\n       [1],\n       [0],\n       [0],\n       [0],\n       [0],\n       [0],\n       [1],\n       [0],\n       [0],\n       [0],\n       [0],\n       [0],\n       [0],\n       [0],\n       [0],\n       [0],\n       [0],\n       [1],\n       [0],\n       [1],\n       [0],\n       [0],\n       [0],\n       [0],\n       [0],\n       [0],\n       [0],\n       [1],\n       [0],\n       [0],\n       [0],\n       [0],\n       [1],\n       [0],\n       [0],\n       [0],\n       [0],\n       [0],\n       [1],\n       [1],\n       [0],\n       [0],\n       [0],\n       [0],\n       [0],\n       [0],\n       [0],\n       [1],\n       [0],\n       [0],\n       [0],\n       [0],\n       [0],\n       [0],\n       [0],\n       [1],\n       [0],\n       [1],\n       [0],\n       [1],\n       [1],\n       [0],\n       [0],\n       [0],\n       [0],\n       [0],\n       [0],\n       [0],\n       [0],\n       [0],\n       [0],\n       [0],\n       [0],\n       [0],\n       [0],\n       [0],\n       [0],\n       [0],\n       [1],\n       [0],\n       [0],\n       [0],\n       [0],\n       [0],\n       [0],\n       [0],\n       [0],\n       [0],\n       [0],\n       [0],\n       [0],\n       [1],\n       [0],\n       [0],\n       [1],\n       [0],\n       [0],\n       [0],\n       [0],\n       [1],\n       [0],\n       [0],\n       [0],\n       [0],\n       [1],\n       [0],\n       [0],\n       [0],\n       [1],\n       [0],\n       [0],\n       [0],\n       [0],\n       [0],\n       [0],\n       [0],\n       [0],\n       [1],\n       [0],\n       [0],\n       [0],\n       [0],\n       [0],\n       [0],\n       [0],\n       [0],\n       [0],\n       [1],\n       [0],\n       [0],\n       [0],\n       [0],\n       [0],\n       [0],\n       [0],\n       [1],\n       [1],\n       [0],\n       [0],\n       [0],\n       [0],\n       [0],\n       [0],\n       [0],\n       [0],\n       [1],\n       [0],\n       [0],\n       [0],\n       [0],\n       [0],\n       [0],\n       [0],\n       [0],\n       [0],\n       [1],\n       [0],\n       [0],\n       [1],\n       [0],\n       [0],\n       [0],\n       [0],\n       [0],\n       [0],\n       [0],\n       [0],\n       [0],\n       [0],\n       [0],\n       [0],\n       [0],\n       [0],\n       [0],\n       [0],\n       [0],\n       [0],\n       [0],\n       [0],\n       [0],\n       [0],\n       [0],\n       [0],\n       [0],\n       [1],\n       [0],\n       [0],\n       [1],\n       [0],\n       [0],\n       [0],\n       [0],\n       [0],\n       [0],\n       [0],\n       [0],\n       [0],\n       [0],\n       [1],\n       [1],\n       [0],\n       [0],\n       [1],\n       [0],\n       [0],\n       [0],\n       [0],\n       [0],\n       [0],\n       [0],\n       [0],\n       [0],\n       [0],\n       [0],\n       [0],\n       [0],\n       [1],\n       [1],\n       [0],\n       [0],\n       [0],\n       [0],\n       [0],\n       [1],\n       [0],\n       [0],\n       [0],\n       [0],\n       [0],\n       [0],\n       [0],\n       [0],\n       [0],\n       [0],\n       [0],\n       [1],\n       [0],\n       [0],\n       [0],\n       [0],\n       [0],\n       [0],\n       [0],\n       [0],\n       [0],\n       [1],\n       [1],\n       [0],\n       [0],\n       [0],\n       [0],\n       [0],\n       [0],\n       [0],\n       [0],\n       [0],\n       [0],\n       [0],\n       [1],\n       [0],\n       [0],\n       [1],\n       [0],\n       [0],\n       [0],\n       [0],\n       [0],\n       [0],\n       [0],\n       [0],\n       [0],\n       [0],\n       [0],\n       [0],\n       [0],\n       [0],\n       [0],\n       [0],\n       [1],\n       [1],\n       [0],\n       [0],\n       [0],\n       [0],\n       [0],\n       [0],\n       [1],\n       [0],\n       [1],\n       [0],\n       [1],\n       [0],\n       [1],\n       [0],\n       [0],\n       [0],\n       [0],\n       [0],\n       [1],\n       [0],\n       [0],\n       [0],\n       [0],\n       [0],\n       [1],\n       [0],\n       [1],\n       [0],\n       [0],\n       [0],\n       [0],\n       [1],\n       [0],\n       [0],\n       [1],\n       [0],\n       [0],\n       [0],\n       [0],\n       [1],\n       [0],\n       [0],\n       [1],\n       [0],\n       [0],\n       [0],\n       [0],\n       [0],\n       [1],\n       [0],\n       [0],\n       [0],\n       [0],\n       [0],\n       [0],\n       [0],\n       [0],\n       [0],\n       [0],\n       [0],\n       [0],\n       [0],\n       [1],\n       [0],\n       [0],\n       [0],\n       [0],\n       [1],\n       [1],\n       [0],\n       [0],\n       [0],\n       [0],\n       [0],\n       [0],\n       [0],\n       [0],\n       [0],\n       [0],\n       [0],\n       [1],\n       [1],\n       [0],\n       [1],\n       [0],\n       [0],\n       [0],\n       [0],\n       [0],\n       [0],\n       [1],\n       [0],\n       [0],\n       [0],\n       [0],\n       [1],\n       [1],\n       [0],\n       [1],\n       [0],\n       [0],\n       [1],\n       [0],\n       [0],\n       [0],\n       [0],\n       [0],\n       [0],\n       [0],\n       [0],\n       [0],\n       [0],\n       [0],\n       [1],\n       [0],\n       [0],\n       [0],\n       [0],\n       [0],\n       [1],\n       [0],\n       [0],\n       [1],\n       [0],\n       [0],\n       [0],\n       [0],\n       [0],\n       [1],\n       [0],\n       [0],\n       [0],\n       [1],\n       [0],\n       [0],\n       [1],\n       [1],\n       [0],\n       [0],\n       [0],\n       [0],\n       [0],\n       [0],\n       [0],\n       [0],\n       [0],\n       [0],\n       [0],\n       [0],\n       [0],\n       [0],\n       [0],\n       [0],\n       [0],\n       [0],\n       [0],\n       [0],\n       [0],\n       [0],\n       [0],\n       [1],\n       [0],\n       [0],\n       [0],\n       [1],\n       [0],\n       [0],\n       [0],\n       [1],\n       [0],\n       [0],\n       [0],\n       [0],\n       [0],\n       [1],\n       [0],\n       [0],\n       [0],\n       [0],\n       [1],\n       [0],\n       [1],\n       [0],\n       [0],\n       [0],\n       [0],\n       [0],\n       [0]])"
     },
     "metadata": {},
     "execution_count": 15
    }
   ],
   "source": [
    "# make class predictions with the model\n",
    "predictions = (model.predict(X) > 0.5).astype(int)\n",
    "predictions"
   ]
  },
  {
   "cell_type": "code",
   "execution_count": 17,
   "metadata": {},
   "outputs": [
    {
     "output_type": "execute_result",
     "data": {
      "text/plain": "(768, 1)"
     },
     "metadata": {},
     "execution_count": 17
    }
   ],
   "source": [
    "predictions.shape"
   ]
  },
  {
   "cell_type": "code",
   "execution_count": 18,
   "metadata": {
    "tags": []
   },
   "outputs": [
    {
     "output_type": "stream",
     "name": "stdout",
     "text": "[  6.    148.     72.     35.      0.     33.6     0.627  50.   ]\n"
    }
   ],
   "source": [
    "print(X[0])"
   ]
  },
  {
   "cell_type": "code",
   "execution_count": null,
   "metadata": {},
   "outputs": [],
   "source": []
  }
 ]
}